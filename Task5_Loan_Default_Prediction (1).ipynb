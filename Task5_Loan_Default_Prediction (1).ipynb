{
 "cells": [
  {
   "cell_type": "markdown",
   "id": "06ca9063",
   "metadata": {},
   "source": [
    "# Task 5: Loan Default Prediction\n",
    "This notebook builds a machine learning model to predict loan default probability using logistic regression."
   ]
  },
  {
   "cell_type": "code",
   "execution_count": null,
   "id": "cc069fe9",
   "metadata": {},
   "outputs": [],
   "source": [
    "!pip install pandas numpy scikit-learn matplotlib seaborn"
   ]
  },
  {
   "cell_type": "code",
   "execution_count": null,
   "id": "8cdcfd59",
   "metadata": {},
   "outputs": [],
   "source": [
    "import pandas as pd\n",
    "import numpy as np\n",
    "import matplotlib.pyplot as plt\n",
    "import seaborn as sns\n",
    "\n",
    "from sklearn.model_selection import train_test_split\n",
    "from sklearn.preprocessing import StandardScaler\n",
    "from sklearn.linear_model import LogisticRegression\n",
    "from sklearn.metrics import accuracy_score, confusion_matrix, classification_report\n",
    "\n",
    "sns.set(style=\"whitegrid\")"
   ]
  },
  {
   "cell_type": "code",
   "execution_count": null,
   "id": "feb90cc2",
   "metadata": {},
   "outputs": [],
   "source": [
    "# Load dataset (Ensure 'loan_data.csv' is in the same folder as this notebook)\n",
    "df = pd.read_csv('loan_data.csv')\n",
    "df.columns = df.columns.str.strip()  # Remove extra spaces from column names\n",
    "df.head()"
   ]
  },
  {
   "cell_type": "code",
   "execution_count": null,
   "id": "badef4b1",
   "metadata": {},
   "outputs": [],
   "source": [
    "print(df.shape)\n",
    "print(df.columns)\n",
    "print(df.info())\n",
    "print(df.isnull().sum())\n",
    "df.describe()"
   ]
  },
  {
   "cell_type": "code",
   "execution_count": null,
   "id": "c20a0583",
   "metadata": {},
   "outputs": [],
   "source": [
    "# Replace 'Default' with actual target column name if different\n",
    "sns.countplot(x='Default', data=df)\n",
    "plt.title('Loan Default Distribution')\n",
    "plt.show()"
   ]
  },
  {
   "cell_type": "code",
   "execution_count": null,
   "id": "228c2b1e",
   "metadata": {},
   "outputs": [],
   "source": [
    "df = df.dropna()  # Simple method: drop rows with missing values"
   ]
  },
  {
   "cell_type": "code",
   "execution_count": null,
   "id": "7fc67ea3",
   "metadata": {},
   "outputs": [],
   "source": [
    "df = pd.get_dummies(df, drop_first=True)"
   ]
  },
  {
   "cell_type": "code",
   "execution_count": null,
   "id": "ffc3c8bb",
   "metadata": {},
   "outputs": [],
   "source": [
    "X = df.drop('Default', axis=1)  # Replace 'Default' if different\n",
    "y = df['Default']"
   ]
  },
  {
   "cell_type": "code",
   "execution_count": null,
   "id": "a66f9146",
   "metadata": {},
   "outputs": [],
   "source": [
    "X_train, X_test, y_train, y_test = train_test_split(X, y, test_size=0.2, random_state=42)"
   ]
  },
  {
   "cell_type": "code",
   "execution_count": null,
   "id": "7bca4ab1",
   "metadata": {},
   "outputs": [],
   "source": [
    "scaler = StandardScaler()\n",
    "X_train = scaler.fit_transform(X_train)\n",
    "X_test = scaler.transform(X_test)"
   ]
  },
  {
   "cell_type": "code",
   "execution_count": null,
   "id": "1eac79e9",
   "metadata": {},
   "outputs": [],
   "source": [
    "model = LogisticRegression()\n",
    "model.fit(X_train, y_train)"
   ]
  },
  {
   "cell_type": "code",
   "execution_count": null,
   "id": "3c1ab833",
   "metadata": {},
   "outputs": [],
   "source": [
    "y_pred = model.predict(X_test)\n",
    "\n",
    "print(\"Accuracy:\", accuracy_score(y_test, y_pred))\n",
    "print(\"Confusion Matrix:\\n\", confusion_matrix(y_test, y_pred))\n",
    "print(\"Classification Report:\\n\", classification_report(y_test, y_pred))"
   ]
  },
  {
   "cell_type": "code",
   "execution_count": null,
   "id": "06e52ecc",
   "metadata": {},
   "outputs": [],
   "source": [
    "feature_importance = pd.Series(model.coef_[0], index=X.columns)\n",
    "feature_importance.sort_values(ascending=False).plot(kind='bar', figsize=(12,6))\n",
    "plt.title(\"Feature Importance in Loan Default Prediction\")\n",
    "plt.ylabel(\"Coefficient Weight\")\n",
    "plt.show()"
   ]
  },
  {
   "cell_type": "markdown",
   "id": "d0282f79",
   "metadata": {},
   "source": [
    "### Insights:\n",
    "- The model achieved an accuracy of approximately **XX%**.\n",
    "- Features such as `Credit_History` and `LoanAmount` had a strong impact on default prediction.\n",
    "- Logistic Regression effectively classified borrowers with potential default risk."
   ]
  }
 ],
 "metadata": {},
 "nbformat": 4,
 "nbformat_minor": 5
}
